{
  "nbformat": 4,
  "nbformat_minor": 0,
  "metadata": {
    "kernelspec": {
      "display_name": "Python 3",
      "language": "python",
      "name": "python3"
    },
    "language_info": {
      "codemirror_mode": {
        "name": "ipython",
        "version": 3
      },
      "file_extension": ".py",
      "mimetype": "text/x-python",
      "name": "python",
      "nbconvert_exporter": "python",
      "pygments_lexer": "ipython3",
      "version": "3.7.5rc1"
    },
    "colab": {
      "name": "Handwritten digit classification-CNN.ipynb",
      "provenance": []
    },
    "accelerator": "GPU"
  },
  "cells": [
    {
      "cell_type": "markdown",
      "metadata": {
        "id": "KvZBRizOTAOy",
        "colab_type": "text"
      },
      "source": [
        "# MNIST Handwritten Image Classification"
      ]
    },
    {
      "cell_type": "markdown",
      "metadata": {
        "id": "P23RjVfFTAOz",
        "colab_type": "text"
      },
      "source": [
        "## Importing Libraries and Datasets"
      ]
    },
    {
      "cell_type": "code",
      "metadata": {
        "id": "6ZQszlKATAO0",
        "colab_type": "code",
        "colab": {}
      },
      "source": [
        "import numpy as np\n",
        "import matplotlib.pyplot as plt\n",
        "\n",
        "from tensorflow.keras.datasets import mnist\n",
        "from tensorflow.keras.models import Sequential\n",
        "from tensorflow.keras.layers import Dense\n",
        "from tensorflow.keras.optimizers import Adam\n",
        "from tensorflow.keras.layers import Flatten\n",
        "from tensorflow.keras.layers import Conv2D\n",
        "from tensorflow.keras.layers import MaxPooling2D\n",
        "from tensorflow.keras.layers import Dropout\n",
        "from tensorflow.keras.models import Model\n",
        "from tensorflow.keras.utils import to_categorical\n",
        "import random\n",
        "import time"
      ],
      "execution_count": 1,
      "outputs": []
    },
    {
      "cell_type": "code",
      "metadata": {
        "id": "ADL4hL4qTAO4",
        "colab_type": "code",
        "colab": {}
      },
      "source": [
        "np.random.seed(0)"
      ],
      "execution_count": 2,
      "outputs": []
    },
    {
      "cell_type": "code",
      "metadata": {
        "id": "bspNt-ayTAO7",
        "colab_type": "code",
        "colab": {
          "base_uri": "https://localhost:8080/",
          "height": 51
        },
        "outputId": "cc2a4621-b964-4db5-adc3-0b63a88fc24c"
      },
      "source": [
        "(X_train, y_train), (X_test, y_test) = mnist.load_data()"
      ],
      "execution_count": 3,
      "outputs": [
        {
          "output_type": "stream",
          "text": [
            "Downloading data from https://storage.googleapis.com/tensorflow/tf-keras-datasets/mnist.npz\n",
            "11493376/11490434 [==============================] - 0s 0us/step\n"
          ],
          "name": "stdout"
        }
      ]
    },
    {
      "cell_type": "code",
      "metadata": {
        "id": "kIwe1KGmTAO9",
        "colab_type": "code",
        "colab": {
          "base_uri": "https://localhost:8080/",
          "height": 68
        },
        "outputId": "4105e64e-1df0-49d5-8c39-0dbe2a1a8388"
      },
      "source": [
        "\n",
        "print(X_train.shape)\n",
        "print(X_test.shape)\n",
        "print(y_test.shape)"
      ],
      "execution_count": 4,
      "outputs": [
        {
          "output_type": "stream",
          "text": [
            "(60000, 28, 28)\n",
            "(10000, 28, 28)\n",
            "(10000,)\n"
          ],
          "name": "stdout"
        }
      ]
    },
    {
      "cell_type": "markdown",
      "metadata": {
        "id": "4FS7JTnUTAPB",
        "colab_type": "text"
      },
      "source": [
        "## Data Visualisation"
      ]
    },
    {
      "cell_type": "code",
      "metadata": {
        "id": "A8Yw9hnJTAPB",
        "colab_type": "code",
        "colab": {}
      },
      "source": [
        "assert(X_train.shape[0] == y_train.shape[0]), \"The number of images is not equal to the number of labels.\"\n",
        "assert(X_test.shape[0] == y_test.shape[0]), \"The number of images is not equal to the number of labels.\"\n",
        "assert(X_train.shape[1:] == (28, 28)), \"The dimensions of the images are not 28*28.\"\n",
        "assert(X_test.shape[1:] == (28, 28)), \"The dimensions of the images are not 28*28.\""
      ],
      "execution_count": 5,
      "outputs": []
    },
    {
      "cell_type": "code",
      "metadata": {
        "id": "cmiddsECTAPF",
        "colab_type": "code",
        "colab": {
          "base_uri": "https://localhost:8080/",
          "height": 718
        },
        "outputId": "d27eacd9-4e77-426f-9078-1ed0fff12272"
      },
      "source": [
        "num_of_samples = []\n",
        "\n",
        "cols = 5\n",
        "num_classes = 10\n",
        "\n",
        "fig, axes = plt.subplots(nrows = num_classes, ncols = cols, figsize = (5, 10))\n",
        "fig.tight_layout()\n",
        "\n",
        "for i in range(cols):\n",
        "    for j in range(num_classes):\n",
        "        x_selected = X_train[y_train == j]\n",
        "        axes[j][i].imshow(x_selected[random.randint(0, len(x_selected - 1)), :, :], cmap = plt.get_cmap(\"gray\"))\n",
        "        axes[j][i].axis(\"off\")\n",
        "        if i == 2:\n",
        "            axes[j][i].set_title(str(j))\n",
        "            num_of_samples.append(len(x_selected))"
      ],
      "execution_count": 6,
      "outputs": [
        {
          "output_type": "display_data",
          "data": {
            "image/png": "[encoded data removed]",
            "text/plain": [
              "<Figure size 360x720 with 50 Axes>"
            ]
          },
          "metadata": {
            "tags": [],
            "needs_background": "light"
          }
        }
      ]
    },
    {
      "cell_type": "code",
      "metadata": {
        "id": "BQ8JpHZxTAPI",
        "colab_type": "code",
        "colab": {
          "base_uri": "https://localhost:8080/",
          "height": 329
        },
        "outputId": "77f22ac8-b292-4e34-92c9-edcdf102eb3d"
      },
      "source": [
        "print(num_of_samples)\n",
        "plt.figure(figsize = (12, 4))\n",
        "plt.bar(range(0, num_classes), num_of_samples)\n",
        "plt.title(\"Training Dataset Distribution\")\n",
        "plt.xlabel(\"Class number\")\n",
        "plt.ylabel(\"Number of images\")"
      ],
      "execution_count": 7,
      "outputs": [
        {
          "output_type": "stream",
          "text": [
            "[5923, 6742, 5958, 6131, 5842, 5421, 5918, 6265, 5851, 5949]\n"
          ],
          "name": "stdout"
        },
        {
          "output_type": "execute_result",
          "data": {
            "text/plain": [
              "Text(0, 0.5, 'Number of images')"
            ]
          },
          "metadata": {
            "tags": []
          },
          "execution_count": 7
        },
        {
          "output_type": "display_data",
          "data": {
            "image/png": "[encoded data removed]",
            "text/plain": [
              "<Figure size 864x288 with 1 Axes>"
            ]
          },
          "metadata": {
            "tags": [],
            "needs_background": "light"
          }
        }
      ]
    },
    {
      "cell_type": "markdown",
      "metadata": {
        "id": "P_ISrzKUTAPL",
        "colab_type": "text"
      },
      "source": [
        "## Pre-processing and one-hot-encoding"
      ]
    },
    {
      "cell_type": "code",
      "metadata": {
        "id": "90M3dW69TAPM",
        "colab_type": "code",
        "colab": {}
      },
      "source": [
        "y_train = to_categorical(y_train, 10)\n",
        "y_test = to_categorical(y_test, 10)"
      ],
      "execution_count": 8,
      "outputs": []
    },
    {
      "cell_type": "code",
      "metadata": {
        "id": "6qx6UB95TAPP",
        "colab_type": "code",
        "colab": {
          "base_uri": "https://localhost:8080/",
          "height": 34
        },
        "outputId": "e12a820f-35a9-4809-f57e-8b0f8b9e514a"
      },
      "source": [
        "print(X_train.shape)"
      ],
      "execution_count": 9,
      "outputs": [
        {
          "output_type": "stream",
          "text": [
            "(60000, 28, 28)\n"
          ],
          "name": "stdout"
        }
      ]
    },
    {
      "cell_type": "code",
      "metadata": {
        "id": "nXEjlU82TAPR",
        "colab_type": "code",
        "colab": {}
      },
      "source": [
        "X_train = X_train/255\n",
        "X_test = X_test/255"
      ],
      "execution_count": 10,
      "outputs": []
    },
    {
      "cell_type": "code",
      "metadata": {
        "id": "HJiZCZWpTAPU",
        "colab_type": "code",
        "colab": {}
      },
      "source": [
        "#num_pixels = 784"
      ],
      "execution_count": 11,
      "outputs": []
    },
    {
      "cell_type": "code",
      "metadata": {
        "id": "j3r5PNHdTAPX",
        "colab_type": "code",
        "colab": {}
      },
      "source": [
        "X_train = X_train.reshape(60000, 28, 28, 1)\n",
        "X_test = X_test.reshape(10000, 28, 28, 1)"
      ],
      "execution_count": 12,
      "outputs": []
    },
    {
      "cell_type": "markdown",
      "metadata": {
        "id": "zs7HE9s4TAPa",
        "colab_type": "text"
      },
      "source": [
        "## LeNET Model"
      ]
    },
    {
      "cell_type": "code",
      "metadata": {
        "id": "-ugzek8FTAPa",
        "colab_type": "code",
        "colab": {}
      },
      "source": [
        "def lenet_model():\n",
        "    model = Sequential()\n",
        "    model.add(Conv2D(30, (5,5), input_shape = (28, 28, 1), activation='relu'))\n",
        "    model.add(MaxPooling2D(pool_size = (2, 2)))\n",
        "    model.add(Conv2D(15, (3, 3), activation = 'relu'))\n",
        "    model.add(MaxPooling2D(pool_size = (2,2)))\n",
        "    model.add(Conv2D(15, (3, 3), activation = 'relu'))\n",
        "    model.add(MaxPooling2D(pool_size = (2,2)))\n",
        "    model.add(Flatten())\n",
        "    model.add(Dense(500, activation = 'relu'))\n",
        "    model.add(Dense(500, activation = 'relu'))\n",
        "    model.add(Dense(500, activation = 'relu'))\n",
        "    model.add(Dropout(0.5))\n",
        "    model.add(Dense(num_classes, activation = 'softmax'))\n",
        "    model.compile(Adam(lr = 0.01), loss = 'categorical_crossentropy', metrics = ['accuracy'])\n",
        "    return model"
      ],
      "execution_count": 13,
      "outputs": []
    },
    {
      "cell_type": "code",
      "metadata": {
        "id": "Ef-Cfh13TAPc",
        "colab_type": "code",
        "colab": {
          "base_uri": "https://localhost:8080/",
          "height": 578
        },
        "outputId": "f562c383-e51b-4e6e-8ae9-1dda6c418c2b"
      },
      "source": [
        "model = lenet_model()\n",
        "print(model.summary())"
      ],
      "execution_count": 14,
      "outputs": [
        {
          "output_type": "stream",
          "text": [
            "Model: \"sequential\"\n",
            "_________________________________________________________________\n",
            "Layer (type)                 Output Shape              Param #   \n",
            "=================================================================\n",
            "conv2d (Conv2D)              (None, 24, 24, 30)        780       \n",
            "_________________________________________________________________\n",
            "max_pooling2d (MaxPooling2D) (None, 12, 12, 30)        0         \n",
            "_________________________________________________________________\n",
            "conv2d_1 (Conv2D)            (None, 10, 10, 15)        4065      \n",
            "_________________________________________________________________\n",
            "max_pooling2d_1 (MaxPooling2 (None, 5, 5, 15)          0         \n",
            "_________________________________________________________________\n",
            "conv2d_2 (Conv2D)            (None, 3, 3, 15)          2040      \n",
            "_________________________________________________________________\n",
            "max_pooling2d_2 (MaxPooling2 (None, 1, 1, 15)          0         \n",
            "_________________________________________________________________\n",
            "flatten (Flatten)            (None, 15)                0         \n",
            "_________________________________________________________________\n",
            "dense (Dense)                (None, 500)               8000      \n",
            "_________________________________________________________________\n",
            "dense_1 (Dense)              (None, 500)               250500    \n",
            "_________________________________________________________________\n",
            "dense_2 (Dense)              (None, 500)               250500    \n",
            "_________________________________________________________________\n",
            "dropout (Dropout)            (None, 500)               0         \n",
            "_________________________________________________________________\n",
            "dense_3 (Dense)              (None, 10)                5010      \n",
            "=================================================================\n",
            "Total params: 520,895\n",
            "Trainable params: 520,895\n",
            "Non-trainable params: 0\n",
            "_________________________________________________________________\n",
            "None\n"
          ],
          "name": "stdout"
        }
      ]
    },
    {
      "cell_type": "code",
      "metadata": {
        "id": "kIK9LOpETAPf",
        "colab_type": "code",
        "colab": {}
      },
      "source": [
        ""
      ],
      "execution_count": 14,
      "outputs": []
    },
    {
      "cell_type": "code",
      "metadata": {
        "id": "5bN-qzlPTAPi",
        "colab_type": "code",
        "colab": {
          "base_uri": "https://localhost:8080/",
          "height": 374
        },
        "outputId": "8fd232c2-b868-4f83-e868-72eef3fec8f5"
      },
      "source": [
        "start_time = time.time()\n",
        "history = model.fit(X_train, y_train, epochs = 10, validation_split = 0.1, batch_size = 500, verbose = 1, shuffle = True)\n",
        "print(\"Time Taken: {}\".format(time.time() - start_time))"
      ],
      "execution_count": 15,
      "outputs": [
        {
          "output_type": "stream",
          "text": [
            "Epoch 1/10\n",
            "108/108 [==============================] - 1s 9ms/step - loss: 1.2472 - accuracy: 0.5406 - val_loss: 0.4292 - val_accuracy: 0.8585\n",
            "Epoch 2/10\n",
            "108/108 [==============================] - 1s 7ms/step - loss: 0.3334 - accuracy: 0.9013 - val_loss: 0.1742 - val_accuracy: 0.9492\n",
            "Epoch 3/10\n",
            "108/108 [==============================] - 1s 7ms/step - loss: 0.2062 - accuracy: 0.9400 - val_loss: 0.1610 - val_accuracy: 0.9502\n",
            "Epoch 4/10\n",
            "108/108 [==============================] - 1s 7ms/step - loss: 0.1700 - accuracy: 0.9499 - val_loss: 0.1334 - val_accuracy: 0.9623\n",
            "Epoch 5/10\n",
            "108/108 [==============================] - 1s 7ms/step - loss: 0.1529 - accuracy: 0.9566 - val_loss: 0.1123 - val_accuracy: 0.9677\n",
            "Epoch 6/10\n",
            "108/108 [==============================] - 1s 7ms/step - loss: 0.1409 - accuracy: 0.9573 - val_loss: 0.1521 - val_accuracy: 0.9560\n",
            "Epoch 7/10\n",
            "108/108 [==============================] - 1s 7ms/step - loss: 0.1421 - accuracy: 0.9581 - val_loss: 0.1353 - val_accuracy: 0.9590\n",
            "Epoch 8/10\n",
            "108/108 [==============================] - 1s 7ms/step - loss: 0.1362 - accuracy: 0.9607 - val_loss: 0.1132 - val_accuracy: 0.9680\n",
            "Epoch 9/10\n",
            "108/108 [==============================] - 1s 7ms/step - loss: 0.1290 - accuracy: 0.9629 - val_loss: 0.0970 - val_accuracy: 0.9715\n",
            "Epoch 10/10\n",
            "108/108 [==============================] - 1s 7ms/step - loss: 0.1219 - accuracy: 0.9639 - val_loss: 0.1030 - val_accuracy: 0.9685\n",
            "Time Taken: 15.61211633682251\n"
          ],
          "name": "stdout"
        }
      ]
    },
    {
      "cell_type": "code",
      "metadata": {
        "id": "SOsp5slvTAPk",
        "colab_type": "code",
        "colab": {}
      },
      "source": [
        "model.save('model.h5')"
      ],
      "execution_count": 16,
      "outputs": []
    },
    {
      "cell_type": "code",
      "metadata": {
        "id": "YFakR6ddTAPn",
        "colab_type": "code",
        "colab": {
          "base_uri": "https://localhost:8080/",
          "height": 34
        },
        "outputId": "11373c89-612b-48bb-f6ec-060408daa225"
      },
      "source": [
        "print(history.epoch)"
      ],
      "execution_count": 17,
      "outputs": [
        {
          "output_type": "stream",
          "text": [
            "[0, 1, 2, 3, 4, 5, 6, 7, 8, 9]\n"
          ],
          "name": "stdout"
        }
      ]
    },
    {
      "cell_type": "code",
      "metadata": {
        "id": "HovAv7PnTAPq",
        "colab_type": "code",
        "colab": {
          "base_uri": "https://localhost:8080/",
          "height": 312
        },
        "outputId": "86353df5-aa73-4d96-e3b7-5df172ac814c"
      },
      "source": [
        "plt.plot(history.history['loss'])\n",
        "plt.plot(history.history['val_loss'])\n",
        "plt.plot(history.history['accuracy'])\n",
        "plt.plot(history.history['val_accuracy'])\n",
        "plt.legend(['loss', 'val_loss', 'accuracy', 'val_acc'])\n",
        "plt.title('Loss & Accuracy')\n",
        "plt.xlabel('epoch')"
      ],
      "execution_count": 20,
      "outputs": [
        {
          "output_type": "execute_result",
          "data": {
            "text/plain": [
              "Text(0.5, 0, 'epoch')"
            ]
          },
          "metadata": {
            "tags": []
          },
          "execution_count": 20
        },
        {
          "output_type": "display_data",
          "data": {
            "image/png": "[encoded data removed]",
            "text/plain": [
              "<Figure size 432x288 with 1 Axes>"
            ]
          },
          "metadata": {
            "tags": [],
            "needs_background": "light"
          }
        }
      ]
    },
    {
      "cell_type": "code",
      "metadata": {
        "id": "ar71qBf-TAPs",
        "colab_type": "code",
        "colab": {
          "base_uri": "https://localhost:8080/",
          "height": 68
        },
        "outputId": "7eacbcda-a9d1-47d9-d09b-98e56fe668f3"
      },
      "source": [
        "score = model.evaluate(X_test, y_test, verbose = 0)\n",
        "print(type(score))\n",
        "print('Test Score:', score[0])\n",
        "print(['Test Accuracy:', score[1]])"
      ],
      "execution_count": 21,
      "outputs": [
        {
          "output_type": "stream",
          "text": [
            "<class 'list'>\n",
            "Test Score: 0.125699982047081\n",
            "['Test Accuracy:', 0.9634000062942505]\n"
          ],
          "name": "stdout"
        }
      ]
    },
    {
      "cell_type": "markdown",
      "metadata": {
        "id": "LzIAJB5GTAPv",
        "colab_type": "text"
      },
      "source": [
        "## Testing Sample Image"
      ]
    },
    {
      "cell_type": "code",
      "metadata": {
        "id": "iSLI2afqTAPv",
        "colab_type": "code",
        "colab": {}
      },
      "source": [
        "import cv2"
      ],
      "execution_count": 22,
      "outputs": []
    },
    {
      "cell_type": "code",
      "metadata": {
        "id": "Iqa9AMnsTAPy",
        "colab_type": "code",
        "colab": {}
      },
      "source": [
        "img = cv2.imread('sample1.jpeg')"
      ],
      "execution_count": 23,
      "outputs": []
    },
    {
      "cell_type": "code",
      "metadata": {
        "id": "wRVq0NVeTAP1",
        "colab_type": "code",
        "colab": {}
      },
      "source": [
        "img = cv2.resize(img, (28, 28))\n",
        "img = cv2.cvtColor(img, cv2.COLOR_BGR2GRAY)\n",
        "plt.imshow(img, cmap = 'gray')"
      ],
      "execution_count": null,
      "outputs": []
    },
    {
      "cell_type": "code",
      "metadata": {
        "id": "INoTdDwhTAP5",
        "colab_type": "code",
        "colab": {}
      },
      "source": [
        "image = cv2.bitwise_not(img)\n",
        "plt.imshow(image, cmap = 'gray')"
      ],
      "execution_count": null,
      "outputs": []
    },
    {
      "cell_type": "code",
      "metadata": {
        "id": "MOysZoXMTAP8",
        "colab_type": "code",
        "colab": {}
      },
      "source": [
        "image = image/255\n",
        "image = image.reshape(1, 28, 28, 1)"
      ],
      "execution_count": null,
      "outputs": []
    },
    {
      "cell_type": "code",
      "metadata": {
        "scrolled": true,
        "id": "65oGcYIuTAP-",
        "colab_type": "code",
        "colab": {}
      },
      "source": [
        "prediction = model.predict_classes(image)\n",
        "print(str(prediction))"
      ],
      "execution_count": null,
      "outputs": []
    },
    {
      "cell_type": "markdown",
      "metadata": {
        "id": "wpIHhpGLTAQA",
        "colab_type": "text"
      },
      "source": [
        "\n"
      ]
    },
    {
      "cell_type": "code",
      "metadata": {
        "id": "JhfFI3wRTAQB",
        "colab_type": "code",
        "colab": {}
      },
      "source": [
        ""
      ],
      "execution_count": null,
      "outputs": []
    },
    {
      "cell_type": "code",
      "metadata": {
        "id": "U80kWDCFTAQD",
        "colab_type": "code",
        "colab": {}
      },
      "source": [
        ""
      ],
      "execution_count": null,
      "outputs": []
    },
    {
      "cell_type": "code",
      "metadata": {
        "id": "rpxBPGdFTAQG",
        "colab_type": "code",
        "colab": {}
      },
      "source": [
        ""
      ],
      "execution_count": null,
      "outputs": []
    },
    {
      "cell_type": "code",
      "metadata": {
        "id": "w0fOCg1yTAQI",
        "colab_type": "code",
        "colab": {}
      },
      "source": [
        ""
      ],
      "execution_count": null,
      "outputs": []
    }
  ]
}